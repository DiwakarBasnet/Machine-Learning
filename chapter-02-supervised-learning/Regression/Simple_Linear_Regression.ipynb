{
  "nbformat": 4,
  "nbformat_minor": 0,
  "metadata": {
    "colab": {
      "provenance": [],
      "collapsed_sections": [],
      "authorship_tag": "ABX9TyM0jHsKEIEzxuQid4stEU+b",
      "include_colab_link": true
    },
    "kernelspec": {
      "name": "python3",
      "display_name": "Python 3"
    },
    "language_info": {
      "name": "python"
    }
  },
  "cells": [
    {
      "cell_type": "markdown",
      "metadata": {
        "id": "view-in-github",
        "colab_type": "text"
      },
      "source": [
        "<a href=\"https://colab.research.google.com/github/DiwakarBasnet/Machine-Learning/blob/main/Simple_Linear_Regression.ipynb\" target=\"_parent\"><img src=\"https://colab.research.google.com/assets/colab-badge.svg\" alt=\"Open In Colab\"/></a>"
      ]
    },
    {
      "cell_type": "markdown",
      "source": [
        "# Simple Lienar Regression"
      ],
      "metadata": {
        "id": "ThHbNKqmltOZ"
      }
    },
    {
      "cell_type": "markdown",
      "source": [
        "Simple linear regression model to study relationship between sales and advertising dataset for dietary weight control product. In this project ther is one independent or input variable; Sales data and is denoted by X. Similarly, there is on dependent or output variable; Advertising data denoted by y. The linear relationship can be modelled by mathematical equation of the form:-\n",
        "\n",
        "\\begin{align}\n",
        "  \\mathbf{y} = B_0 + B_1*X\n",
        "\\end{align}\n",
        "\n",
        "Slope of line is given by $B_1$ and intercept by $B_0$. In SLR model, we want to fit a line which estimates the linear relationship between $X$ and $y$. We can draw a scatter plot between $X$ and $y$ which shows the relationship between them.\n",
        "\n",
        "Now, our task is to find a line which best fits the scatter plot. This line is called **Regression line**.\n",
        "\n",
        "We can define an error function for any line. The regression line is made such that error function is minimized, this error function is also called **Cost function**."
      ],
      "metadata": {
        "id": "jW6pZDsYl39a"
      }
    },
    {
      "cell_type": "markdown",
      "source": [
        "## Cost Function"
      ],
      "metadata": {
        "id": "WGv7YI98OFzr"
      }
    },
    {
      "cell_type": "markdown",
      "source": [
        "We want the regression line to be close to actual data points as much as possible. It can be achieved by minimizing the vertical distance **(residual)** between the actual data point and fitted line.\n",
        "\n",
        "So, in a regression model, we try to minimize the residuals. We could try to do this by minimizing the sum of residuals, but then a large positive residual would cancel out a large negative residual. For this reason, we minimize the sum of the squares of the residuals.\n",
        "\n",
        "Let yi be actual data point and yi' is predicted data point. So, the residual for data point would be given as;\n",
        "\n",
        "\\begin{align}\n",
        "    \\mathbf{d_i} = y_i - y_i'\n",
        "\\end{align}\n",
        "\n",
        "Sum of the squares of the residuals is given as:\n",
        "\n",
        "\\begin{align}\n",
        "  \\mathbf{D} = \\sum_{i=1}^n d_i^2\n",
        "\\end{align}\n",
        "\n",
        "This cost function denotes the total error present in the model which is the sum of the total errors of each individual data point.\n",
        "\n",
        "We can estimate the parameters of the model $B_0$ and $B_1$ by minimizing the error in the model by minimizing $D$. Thus we can find the regression line.\n",
        "\n",
        "This method of finding the parameters of the model and thus regression line is called **Ordinary Least Square Method**.\n"
      ],
      "metadata": {
        "id": "vpiSl8WZQUHx"
      }
    },
    {
      "cell_type": "markdown",
      "source": [
        "# Data Preprocessing"
      ],
      "metadata": {
        "id": "obYRttTN6AfX"
      }
    },
    {
      "cell_type": "code",
      "source": [
        "# Importing libraries\n",
        "import numpy as np\n",
        "import pandas as pd\n",
        "import matplotlib.pyplot as plt\n",
        "\n",
        "%matplotlib inline"
      ],
      "metadata": {
        "id": "aRnp4vmdO5g9"
      },
      "execution_count": 1,
      "outputs": []
    },
    {
      "cell_type": "markdown",
      "source": [
        "## About the dataset\n",
        "The dataset has been imported from the econometrics website with followind url:\n",
        "\n",
        "http://www.econometrics.com/intro/sales.htm\n",
        "\n",
        "The dataset contains sales and advertising expenditures for a dietary weight control product. It contains monthly data for 36 months. The variables in the dataset are Sales and Advertising."
      ],
      "metadata": {
        "id": "1ZIylja_6zbD"
      }
    },
    {
      "cell_type": "code",
      "source": [
        "# Getting the dataset\n",
        "url = 'https://raw.githubusercontent.com/DiwakarBasnet/Machine-Learning/main/chapter-02-supervised-learning/dataset/SALES.csv?token=GHSAT0AAAAAABYAO27LP324YMEFT6JDHQVEYZMLNNA'\n",
        "df = pd.read_csv(url, header=None)"
      ],
      "metadata": {
        "id": "in0FLm476U6q"
      },
      "execution_count": 2,
      "outputs": []
    },
    {
      "cell_type": "code",
      "source": [
        "# view dimension of df\n",
        "df.shape"
      ],
      "metadata": {
        "colab": {
          "base_uri": "https://localhost:8080/"
        },
        "id": "7CjCC3Xv97GK",
        "outputId": "ce335a34-8724-4d9c-d36d-2121926e2504"
      },
      "execution_count": 3,
      "outputs": [
        {
          "output_type": "execute_result",
          "data": {
            "text/plain": [
              "(36, 2)"
            ]
          },
          "metadata": {},
          "execution_count": 3
        }
      ]
    },
    {
      "cell_type": "code",
      "source": [
        "# view top 5 rows of df\n",
        "df.head()"
      ],
      "metadata": {
        "colab": {
          "base_uri": "https://localhost:8080/",
          "height": 206
        },
        "id": "Wpcwc6wR-pqS",
        "outputId": "84192cd7-d1e4-4ba0-b3cf-272718659f57"
      },
      "execution_count": 4,
      "outputs": [
        {
          "output_type": "execute_result",
          "data": {
            "text/plain": [
              "      0   1\n",
              "0  12.0  15\n",
              "1  20.5  16\n",
              "2  21.0  18\n",
              "3  15.5  27\n",
              "4  15.3  21"
            ],
            "text/html": [
              "\n",
              "  <div id=\"df-2e4bcfa2-5137-4a00-8bca-d276c1fb6d85\">\n",
              "    <div class=\"colab-df-container\">\n",
              "      <div>\n",
              "<style scoped>\n",
              "    .dataframe tbody tr th:only-of-type {\n",
              "        vertical-align: middle;\n",
              "    }\n",
              "\n",
              "    .dataframe tbody tr th {\n",
              "        vertical-align: top;\n",
              "    }\n",
              "\n",
              "    .dataframe thead th {\n",
              "        text-align: right;\n",
              "    }\n",
              "</style>\n",
              "<table border=\"1\" class=\"dataframe\">\n",
              "  <thead>\n",
              "    <tr style=\"text-align: right;\">\n",
              "      <th></th>\n",
              "      <th>0</th>\n",
              "      <th>1</th>\n",
              "    </tr>\n",
              "  </thead>\n",
              "  <tbody>\n",
              "    <tr>\n",
              "      <th>0</th>\n",
              "      <td>12.0</td>\n",
              "      <td>15</td>\n",
              "    </tr>\n",
              "    <tr>\n",
              "      <th>1</th>\n",
              "      <td>20.5</td>\n",
              "      <td>16</td>\n",
              "    </tr>\n",
              "    <tr>\n",
              "      <th>2</th>\n",
              "      <td>21.0</td>\n",
              "      <td>18</td>\n",
              "    </tr>\n",
              "    <tr>\n",
              "      <th>3</th>\n",
              "      <td>15.5</td>\n",
              "      <td>27</td>\n",
              "    </tr>\n",
              "    <tr>\n",
              "      <th>4</th>\n",
              "      <td>15.3</td>\n",
              "      <td>21</td>\n",
              "    </tr>\n",
              "  </tbody>\n",
              "</table>\n",
              "</div>\n",
              "      <button class=\"colab-df-convert\" onclick=\"convertToInteractive('df-2e4bcfa2-5137-4a00-8bca-d276c1fb6d85')\"\n",
              "              title=\"Convert this dataframe to an interactive table.\"\n",
              "              style=\"display:none;\">\n",
              "        \n",
              "  <svg xmlns=\"http://www.w3.org/2000/svg\" height=\"24px\"viewBox=\"0 0 24 24\"\n",
              "       width=\"24px\">\n",
              "    <path d=\"M0 0h24v24H0V0z\" fill=\"none\"/>\n",
              "    <path d=\"M18.56 5.44l.94 2.06.94-2.06 2.06-.94-2.06-.94-.94-2.06-.94 2.06-2.06.94zm-11 1L8.5 8.5l.94-2.06 2.06-.94-2.06-.94L8.5 2.5l-.94 2.06-2.06.94zm10 10l.94 2.06.94-2.06 2.06-.94-2.06-.94-.94-2.06-.94 2.06-2.06.94z\"/><path d=\"M17.41 7.96l-1.37-1.37c-.4-.4-.92-.59-1.43-.59-.52 0-1.04.2-1.43.59L10.3 9.45l-7.72 7.72c-.78.78-.78 2.05 0 2.83L4 21.41c.39.39.9.59 1.41.59.51 0 1.02-.2 1.41-.59l7.78-7.78 2.81-2.81c.8-.78.8-2.07 0-2.86zM5.41 20L4 18.59l7.72-7.72 1.47 1.35L5.41 20z\"/>\n",
              "  </svg>\n",
              "      </button>\n",
              "      \n",
              "  <style>\n",
              "    .colab-df-container {\n",
              "      display:flex;\n",
              "      flex-wrap:wrap;\n",
              "      gap: 12px;\n",
              "    }\n",
              "\n",
              "    .colab-df-convert {\n",
              "      background-color: #E8F0FE;\n",
              "      border: none;\n",
              "      border-radius: 50%;\n",
              "      cursor: pointer;\n",
              "      display: none;\n",
              "      fill: #1967D2;\n",
              "      height: 32px;\n",
              "      padding: 0 0 0 0;\n",
              "      width: 32px;\n",
              "    }\n",
              "\n",
              "    .colab-df-convert:hover {\n",
              "      background-color: #E2EBFA;\n",
              "      box-shadow: 0px 1px 2px rgba(60, 64, 67, 0.3), 0px 1px 3px 1px rgba(60, 64, 67, 0.15);\n",
              "      fill: #174EA6;\n",
              "    }\n",
              "\n",
              "    [theme=dark] .colab-df-convert {\n",
              "      background-color: #3B4455;\n",
              "      fill: #D2E3FC;\n",
              "    }\n",
              "\n",
              "    [theme=dark] .colab-df-convert:hover {\n",
              "      background-color: #434B5C;\n",
              "      box-shadow: 0px 1px 3px 1px rgba(0, 0, 0, 0.15);\n",
              "      filter: drop-shadow(0px 1px 2px rgba(0, 0, 0, 0.3));\n",
              "      fill: #FFFFFF;\n",
              "    }\n",
              "  </style>\n",
              "\n",
              "      <script>\n",
              "        const buttonEl =\n",
              "          document.querySelector('#df-2e4bcfa2-5137-4a00-8bca-d276c1fb6d85 button.colab-df-convert');\n",
              "        buttonEl.style.display =\n",
              "          google.colab.kernel.accessAllowed ? 'block' : 'none';\n",
              "\n",
              "        async function convertToInteractive(key) {\n",
              "          const element = document.querySelector('#df-2e4bcfa2-5137-4a00-8bca-d276c1fb6d85');\n",
              "          const dataTable =\n",
              "            await google.colab.kernel.invokeFunction('convertToInteractive',\n",
              "                                                     [key], {});\n",
              "          if (!dataTable) return;\n",
              "\n",
              "          const docLinkHtml = 'Like what you see? Visit the ' +\n",
              "            '<a target=\"_blank\" href=https://colab.research.google.com/notebooks/data_table.ipynb>data table notebook</a>'\n",
              "            + ' to learn more about interactive tables.';\n",
              "          element.innerHTML = '';\n",
              "          dataTable['output_type'] = 'display_data';\n",
              "          await google.colab.output.renderOutput(dataTable, element);\n",
              "          const docLink = document.createElement('div');\n",
              "          docLink.innerHTML = docLinkHtml;\n",
              "          element.appendChild(docLink);\n",
              "        }\n",
              "      </script>\n",
              "    </div>\n",
              "  </div>\n",
              "  "
            ]
          },
          "metadata": {},
          "execution_count": 4
        }
      ]
    },
    {
      "cell_type": "code",
      "source": [
        "# Rename columns of df dataframe\n",
        "df.columns = ['Sales', 'Advertising']\n",
        "df = df.astype({'Advertising': float})"
      ],
      "metadata": {
        "id": "DPf7cEKM-yb9"
      },
      "execution_count": 5,
      "outputs": []
    },
    {
      "cell_type": "code",
      "source": [
        "# View dataframe summary\n",
        "df.info()"
      ],
      "metadata": {
        "id": "bGbZXq0T_ZAN",
        "colab": {
          "base_uri": "https://localhost:8080/"
        },
        "outputId": "b721135f-098d-430c-96ed-ca5a66798efa"
      },
      "execution_count": 6,
      "outputs": [
        {
          "output_type": "stream",
          "name": "stdout",
          "text": [
            "<class 'pandas.core.frame.DataFrame'>\n",
            "RangeIndex: 36 entries, 0 to 35\n",
            "Data columns (total 2 columns):\n",
            " #   Column       Non-Null Count  Dtype  \n",
            "---  ------       --------------  -----  \n",
            " 0   Sales        36 non-null     float64\n",
            " 1   Advertising  36 non-null     float64\n",
            "dtypes: float64(2)\n",
            "memory usage: 704.0 bytes\n"
          ]
        }
      ]
    },
    {
      "cell_type": "code",
      "source": [
        "# View descriptive statistics\n",
        "df.describe()"
      ],
      "metadata": {
        "colab": {
          "base_uri": "https://localhost:8080/",
          "height": 300
        },
        "id": "lX_PorsztqfC",
        "outputId": "ecaaf1e0-b13c-4ae1-e21f-bae82d008111"
      },
      "execution_count": 7,
      "outputs": [
        {
          "output_type": "execute_result",
          "data": {
            "text/plain": [
              "           Sales  Advertising\n",
              "count  36.000000    36.000000\n",
              "mean   24.255556    28.527778\n",
              "std     6.185118    18.777625\n",
              "min    12.000000     1.000000\n",
              "25%    20.300000    15.750000\n",
              "50%    24.250000    23.000000\n",
              "75%    28.600000    41.000000\n",
              "max    36.500000    65.000000"
            ],
            "text/html": [
              "\n",
              "  <div id=\"df-c712ce36-61f1-4814-a964-c4222763a563\">\n",
              "    <div class=\"colab-df-container\">\n",
              "      <div>\n",
              "<style scoped>\n",
              "    .dataframe tbody tr th:only-of-type {\n",
              "        vertical-align: middle;\n",
              "    }\n",
              "\n",
              "    .dataframe tbody tr th {\n",
              "        vertical-align: top;\n",
              "    }\n",
              "\n",
              "    .dataframe thead th {\n",
              "        text-align: right;\n",
              "    }\n",
              "</style>\n",
              "<table border=\"1\" class=\"dataframe\">\n",
              "  <thead>\n",
              "    <tr style=\"text-align: right;\">\n",
              "      <th></th>\n",
              "      <th>Sales</th>\n",
              "      <th>Advertising</th>\n",
              "    </tr>\n",
              "  </thead>\n",
              "  <tbody>\n",
              "    <tr>\n",
              "      <th>count</th>\n",
              "      <td>36.000000</td>\n",
              "      <td>36.000000</td>\n",
              "    </tr>\n",
              "    <tr>\n",
              "      <th>mean</th>\n",
              "      <td>24.255556</td>\n",
              "      <td>28.527778</td>\n",
              "    </tr>\n",
              "    <tr>\n",
              "      <th>std</th>\n",
              "      <td>6.185118</td>\n",
              "      <td>18.777625</td>\n",
              "    </tr>\n",
              "    <tr>\n",
              "      <th>min</th>\n",
              "      <td>12.000000</td>\n",
              "      <td>1.000000</td>\n",
              "    </tr>\n",
              "    <tr>\n",
              "      <th>25%</th>\n",
              "      <td>20.300000</td>\n",
              "      <td>15.750000</td>\n",
              "    </tr>\n",
              "    <tr>\n",
              "      <th>50%</th>\n",
              "      <td>24.250000</td>\n",
              "      <td>23.000000</td>\n",
              "    </tr>\n",
              "    <tr>\n",
              "      <th>75%</th>\n",
              "      <td>28.600000</td>\n",
              "      <td>41.000000</td>\n",
              "    </tr>\n",
              "    <tr>\n",
              "      <th>max</th>\n",
              "      <td>36.500000</td>\n",
              "      <td>65.000000</td>\n",
              "    </tr>\n",
              "  </tbody>\n",
              "</table>\n",
              "</div>\n",
              "      <button class=\"colab-df-convert\" onclick=\"convertToInteractive('df-c712ce36-61f1-4814-a964-c4222763a563')\"\n",
              "              title=\"Convert this dataframe to an interactive table.\"\n",
              "              style=\"display:none;\">\n",
              "        \n",
              "  <svg xmlns=\"http://www.w3.org/2000/svg\" height=\"24px\"viewBox=\"0 0 24 24\"\n",
              "       width=\"24px\">\n",
              "    <path d=\"M0 0h24v24H0V0z\" fill=\"none\"/>\n",
              "    <path d=\"M18.56 5.44l.94 2.06.94-2.06 2.06-.94-2.06-.94-.94-2.06-.94 2.06-2.06.94zm-11 1L8.5 8.5l.94-2.06 2.06-.94-2.06-.94L8.5 2.5l-.94 2.06-2.06.94zm10 10l.94 2.06.94-2.06 2.06-.94-2.06-.94-.94-2.06-.94 2.06-2.06.94z\"/><path d=\"M17.41 7.96l-1.37-1.37c-.4-.4-.92-.59-1.43-.59-.52 0-1.04.2-1.43.59L10.3 9.45l-7.72 7.72c-.78.78-.78 2.05 0 2.83L4 21.41c.39.39.9.59 1.41.59.51 0 1.02-.2 1.41-.59l7.78-7.78 2.81-2.81c.8-.78.8-2.07 0-2.86zM5.41 20L4 18.59l7.72-7.72 1.47 1.35L5.41 20z\"/>\n",
              "  </svg>\n",
              "      </button>\n",
              "      \n",
              "  <style>\n",
              "    .colab-df-container {\n",
              "      display:flex;\n",
              "      flex-wrap:wrap;\n",
              "      gap: 12px;\n",
              "    }\n",
              "\n",
              "    .colab-df-convert {\n",
              "      background-color: #E8F0FE;\n",
              "      border: none;\n",
              "      border-radius: 50%;\n",
              "      cursor: pointer;\n",
              "      display: none;\n",
              "      fill: #1967D2;\n",
              "      height: 32px;\n",
              "      padding: 0 0 0 0;\n",
              "      width: 32px;\n",
              "    }\n",
              "\n",
              "    .colab-df-convert:hover {\n",
              "      background-color: #E2EBFA;\n",
              "      box-shadow: 0px 1px 2px rgba(60, 64, 67, 0.3), 0px 1px 3px 1px rgba(60, 64, 67, 0.15);\n",
              "      fill: #174EA6;\n",
              "    }\n",
              "\n",
              "    [theme=dark] .colab-df-convert {\n",
              "      background-color: #3B4455;\n",
              "      fill: #D2E3FC;\n",
              "    }\n",
              "\n",
              "    [theme=dark] .colab-df-convert:hover {\n",
              "      background-color: #434B5C;\n",
              "      box-shadow: 0px 1px 3px 1px rgba(0, 0, 0, 0.15);\n",
              "      filter: drop-shadow(0px 1px 2px rgba(0, 0, 0, 0.3));\n",
              "      fill: #FFFFFF;\n",
              "    }\n",
              "  </style>\n",
              "\n",
              "      <script>\n",
              "        const buttonEl =\n",
              "          document.querySelector('#df-c712ce36-61f1-4814-a964-c4222763a563 button.colab-df-convert');\n",
              "        buttonEl.style.display =\n",
              "          google.colab.kernel.accessAllowed ? 'block' : 'none';\n",
              "\n",
              "        async function convertToInteractive(key) {\n",
              "          const element = document.querySelector('#df-c712ce36-61f1-4814-a964-c4222763a563');\n",
              "          const dataTable =\n",
              "            await google.colab.kernel.invokeFunction('convertToInteractive',\n",
              "                                                     [key], {});\n",
              "          if (!dataTable) return;\n",
              "\n",
              "          const docLinkHtml = 'Like what you see? Visit the ' +\n",
              "            '<a target=\"_blank\" href=https://colab.research.google.com/notebooks/data_table.ipynb>data table notebook</a>'\n",
              "            + ' to learn more about interactive tables.';\n",
              "          element.innerHTML = '';\n",
              "          dataTable['output_type'] = 'display_data';\n",
              "          await google.colab.output.renderOutput(dataTable, element);\n",
              "          const docLink = document.createElement('div');\n",
              "          docLink.innerHTML = docLinkHtml;\n",
              "          element.appendChild(docLink);\n",
              "        }\n",
              "      </script>\n",
              "    </div>\n",
              "  </div>\n",
              "  "
            ]
          },
          "metadata": {},
          "execution_count": 7
        }
      ]
    },
    {
      "cell_type": "code",
      "source": [
        "# Declare feature variable and target vatiable\n",
        "X = df['Sales'].values        # feature variable\n",
        "y = df['Advertising'].values  # target variable\n",
        "\n",
        "# values attribute of pandas dataframe returns the numpy array"
      ],
      "metadata": {
        "id": "KWIN0jC_vcs4"
      },
      "execution_count": 8,
      "outputs": []
    },
    {
      "cell_type": "markdown",
      "source": [
        "## Visual exploratory data analysis\n",
        "Visualize the relationship between X and y by using scatter plot."
      ],
      "metadata": {
        "id": "gUsYc39YII2y"
      }
    },
    {
      "cell_type": "code",
      "source": [
        "# Scatterplot\n",
        "plt.scatter(X, y, color='blue', label='Scatter Plot')\n",
        "plt.title(\"Relationship between Sales and Advertising\")\n",
        "plt.xlabel(\"Sales\")\n",
        "plt.ylabel(\"Advertising\")\n",
        "plt.legend(loc=4)\n",
        "plt.show()"
      ],
      "metadata": {
        "id": "1fkBLDKMx1B-",
        "colab": {
          "base_uri": "https://localhost:8080/",
          "height": 295
        },
        "outputId": "a29a8c09-2ddc-4586-f10d-c6a9f3a936be"
      },
      "execution_count": 9,
      "outputs": [
        {
          "output_type": "display_data",
          "data": {
            "text/plain": [
              "<Figure size 432x288 with 1 Axes>"
            ],
            "image/png": "[encoded data removed]"
          },
          "metadata": {
            "needs_background": "light"
          }
        }
      ]
    },
    {
      "cell_type": "code",
      "source": [
        "# Checking dimensions of X and y to make sure they are in right format for Scikit-Learn API\n",
        "print(X.shape)\n",
        "print(y.shape)"
      ],
      "metadata": {
        "colab": {
          "base_uri": "https://localhost:8080/"
        },
        "id": "T2tiAZMmJA6F",
        "outputId": "3e8036dc-edf2-4f87-f106-3f09915c6dcc"
      },
      "execution_count": 10,
      "outputs": [
        {
          "output_type": "stream",
          "name": "stdout",
          "text": [
            "(36,)\n",
            "(36,)\n"
          ]
        }
      ]
    },
    {
      "cell_type": "markdown",
      "source": [
        "## Reshaping X and y\n",
        "Since we are working with only one feature variable, so we need to reshape using Numpy reshape() method.\n",
        "\n",
        "It specifies first dimension to be -1, which means \"unspecified\"."
      ],
      "metadata": {
        "id": "g8E23TwmKDXy"
      }
    },
    {
      "cell_type": "code",
      "source": [
        "X = X.reshape(-1,1)\n",
        "y = y.reshape(-1,1)\n",
        "print(X.shape)\n",
        "print(y.shape)"
      ],
      "metadata": {
        "colab": {
          "base_uri": "https://localhost:8080/"
        },
        "id": "rnpvgIf8Jh2j",
        "outputId": "49296a30-b147-420d-b01e-a68be5a3f83b"
      },
      "execution_count": 11,
      "outputs": [
        {
          "output_type": "stream",
          "name": "stdout",
          "text": [
            "(36, 1)\n",
            "(36, 1)\n"
          ]
        }
      ]
    },
    {
      "cell_type": "markdown",
      "source": [
        "## Train test split\n",
        "test_size = 0.33 means the test dataset is of (0.33 * dataset) size and train dataset is of (0.77 * dataset) size.\n",
        "\n",
        "Everytime we run train_test_split without random_state, we will get different result i.e on using random_state equals some int number, our split will always be same.\n",
        "\n",
        "We are using '42' because of this (from wikipedia): The number 42 is, in The Hitchhiker's Guide to the Galaxy by Douglas Adams, the \"Answer to the Ultimate Question of Life, the Universe, and Everything\""
      ],
      "metadata": {
        "id": "jo9UQl4yLrNQ"
      }
    },
    {
      "cell_type": "code",
      "source": [
        "# Split X and y into training and test data sets\n",
        "from sklearn.model_selection import train_test_split\n",
        "\n",
        "X_train, X_test, y_train, y_test = train_test_split(X, y, test_size=0.33, random_state=42)"
      ],
      "metadata": {
        "id": "kbPP3Y3uKy-U"
      },
      "execution_count": 12,
      "outputs": []
    },
    {
      "cell_type": "code",
      "source": [
        "print(X_train.shape)\n",
        "print(X_test.shape)\n",
        "print(y_train.shape)\n",
        "print(y_test.shape)"
      ],
      "metadata": {
        "colab": {
          "base_uri": "https://localhost:8080/"
        },
        "id": "ZD2cYKBVTtrx",
        "outputId": "3576ad4b-9b28-4af9-fe9e-e187cce1324c"
      },
      "execution_count": 13,
      "outputs": [
        {
          "output_type": "stream",
          "name": "stdout",
          "text": [
            "(24, 1)\n",
            "(12, 1)\n",
            "(24, 1)\n",
            "(12, 1)\n"
          ]
        }
      ]
    },
    {
      "cell_type": "markdown",
      "source": [
        "## Mechanics of model\n",
        "Instantiate the linear regressor (lm) and fit it on the training set using fit method. In this step, the model learned the relationship between the training data (X_train, y_train).\n",
        "\n",
        "Now, the model is ready to make predictions on test data (X_test). Prediction on test data is made using predict method."
      ],
      "metadata": {
        "id": "P7iXyNZCX5TG"
      }
    },
    {
      "cell_type": "code",
      "source": [
        "# Instantiate the linear regression object lm\n",
        "\n",
        "from sklearn.linear_model import LinearRegression\n",
        "lm = LinearRegression()\n",
        "\n",
        "# Train the model using training dataset\n",
        "lm.fit(X_train, y_train)\n",
        "\n",
        "# Predict on test dataset\n",
        "y_pred = lm.predict(X_test)"
      ],
      "metadata": {
        "id": "AhT9rBjUT7uv"
      },
      "execution_count": 14,
      "outputs": []
    },
    {
      "cell_type": "markdown",
      "source": [
        "## Model slope and intercept\n",
        "The model slope is given by lm.coef and model intercept is given by lm.intercept. The estimated model slope and intercept values are 1.60509347 and -11.16003616.\n",
        "\n",
        "So, the equation of the fitted regression line is;\n",
        "\n",
        "y = (1.60509347 * x) - 11.16003616"
      ],
      "metadata": {
        "id": "BtM79Fy-aXBo"
      }
    },
    {
      "cell_type": "code",
      "source": [
        "# Compute model slope and intercept\n",
        "a = lm.coef_\n",
        "b = lm.intercept_\n",
        "print(\"Estimated model slope, a: \",a) \n",
        "print(\"Estimated model intercept, b: \",b)"
      ],
      "metadata": {
        "colab": {
          "base_uri": "https://localhost:8080/"
        },
        "id": "5nA3iWtAZmVr",
        "outputId": "d91918af-8e01-4e21-8057-eb62d0721046"
      },
      "execution_count": 15,
      "outputs": [
        {
          "output_type": "stream",
          "name": "stdout",
          "text": [
            "Estimated model slope, a:  [[1.60509347]]\n",
            "Estimated model intercept, b:  [-11.16003616]\n"
          ]
        }
      ]
    },
    {
      "cell_type": "markdown",
      "source": [
        "# Regression metrics for model performance\n",
        "For regression problems, there are two ways to compute the model performance. They are RMSE (Root Mean Square Error) and R-Squared value."
      ],
      "metadata": {
        "id": "zjn61WgwegJU"
      }
    },
    {
      "cell_type": "markdown",
      "source": [
        "## RMSE\n",
        "RMSE is the standard deviation (measure of variation or dispersion of a set of values) of the residuals. It can be calculated by taking square root of Mean Squared Error. It gives us how spread the residuals are, given by the standard deviation of the residuals. Lower values of RMSE indicate better fit of data."
      ],
      "metadata": {
        "id": "NXfN_lskf999"
      }
    },
    {
      "cell_type": "code",
      "source": [
        "from sklearn.metrics import mean_squared_error\n",
        "mse = mean_squared_error(y_test, y_pred)\n",
        "rmse = np.sqrt(mse)\n",
        "print(\"RMSE: {:.4f}\".format(rmse))"
      ],
      "metadata": {
        "colab": {
          "base_uri": "https://localhost:8080/"
        },
        "id": "vvWuWvXic6Ob",
        "outputId": "a08bb00f-f146-4f1c-eeeb-17c2104f5963"
      },
      "execution_count": 16,
      "outputs": [
        {
          "output_type": "stream",
          "name": "stdout",
          "text": [
            "RMSE: 11.2273\n"
          ]
        }
      ]
    },
    {
      "cell_type": "markdown",
      "source": [
        "## $R^2$ Score\n",
        "It is another metric to evaluate performance of a regression model. It is also called coefficient of determination. It gives us an idea of goodness of fit for the linear regression models. It indicates the percentage of variance that is explained by the model.\n",
        "\n",
        "Mathematically,\n",
        "\n",
        "$R^2$ Score = Explained Variation / Total Variation\n",
        "\n",
        "In general, the higher the $R^2$ Score value, the better the model fits the data. Usually, it's value ranges from 0 to 1. So, we want its value to be as close to 1. It's value can become negative if out model is wrong.\n",
        "\n",
        "In business decisions, the benchmark for the $R^2$ score value is 0.7 i.e if $R^2$ score value >= 0.7, then the model is good enough to deploy on unseen data whereas if $R^2$ score value < 0.7, then the model is not good enough to deploy."
      ],
      "metadata": {
        "id": "i4H2GMZdjyVp"
      }
    },
    {
      "cell_type": "code",
      "source": [
        "from sklearn.metrics import r2_score\n",
        "r2s = r2_score(y_test, y_pred)\n",
        "print(\"R2 Score: {:.4f}\".format(r2s))"
      ],
      "metadata": {
        "colab": {
          "base_uri": "https://localhost:8080/"
        },
        "id": "YBK-YQDNi8We",
        "outputId": "9ae07eb8-175a-4b33-b71c-b09b520473bf"
      },
      "execution_count": 17,
      "outputs": [
        {
          "output_type": "stream",
          "name": "stdout",
          "text": [
            "R2 Score: 0.5789\n"
          ]
        }
      ]
    },
    {
      "cell_type": "markdown",
      "source": [
        "# Interpretation and conclusion\n",
        "The RMSE value was found to be 11.2273, which means sometimes we expect the predictions to be off by more than 11.2273 and other times we expect less than 11.2273. So, the model is not good fit to the data.\n",
        "\n",
        "The $R^2$ score value was found to be 0.5789 ( < 0.7). It means that this model explains 57.89% of the variance in our dependent variable. So, the $R^2$ score value confirms that the model is not good enough to deploy because it does not provide good fit to the data."
      ],
      "metadata": {
        "id": "zNKXPhEnlPBl"
      }
    },
    {
      "cell_type": "code",
      "source": [
        "# Plot the Regression Line\n",
        "plt.scatter(X, y, color='blue', label='Scatter Plot')\n",
        "plt.plot(X_test, y_pred, color='black', linewidth=3, label='Regression Line')\n",
        "plt.title('Relationship between Sales and Advertising')\n",
        "plt.xlabel(\"Sales\")\n",
        "plt.ylabel(\"Advertising\")\n",
        "plt.legend(loc=0)\n",
        "plt.show()"
      ],
      "metadata": {
        "id": "twfDZ00Lnb-b",
        "colab": {
          "base_uri": "https://localhost:8080/",
          "height": 295
        },
        "outputId": "d7d89e67-c7cb-4163-8537-a2f1b4383096"
      },
      "execution_count": 18,
      "outputs": [
        {
          "output_type": "display_data",
          "data": {
            "text/plain": [
              "<Figure size 432x288 with 1 Axes>"
            ],
            "image/png": "[encoded data removed]"
          },
          "metadata": {
            "needs_background": "light"
          }
        }
      ]
    },
    {
      "cell_type": "markdown",
      "source": [
        "# Residual analysis\n",
        "A linear regression model may not represent the data appropriately. The model may be a poor fit to the data. So, we should validate our model by defining and examining residual plots.\n",
        "\n",
        "The difference between the observed value of the dependent variable ($y_i$) and the predicted value ($y_i'$) is called the residual and is denoted by e. The scatter-plot of these residuals is called residual plot.\n",
        "\n",
        "If the data points in a residual plot are randomly dispersed around horizontal axis and an approximate zero residual mean, a linear regression model may be appropriate for the data. Otherwise a non-linear model may be more appropriate."
      ],
      "metadata": {
        "id": "Rwqf356Wmj6c"
      }
    },
    {
      "cell_type": "code",
      "source": [
        "# Plotting residual errors\n",
        "plt.scatter(lm.predict(X_train), lm.predict(X_train) - y_train, color='red', label='Train data')\n",
        "plt.scatter(lm.predict(X_test), lm.predict(X_test) - y_test, color='blue', label='Test data')\n",
        "plt.hlines(xmin = 0, xmax = 70, y = 0, linewidth = 3)\n",
        "plt.title('Residual errors')\n",
        "plt.legend(loc = 0)\n",
        "plt.show()"
      ],
      "metadata": {
        "id": "-QXvwpWSzcs-",
        "colab": {
          "base_uri": "https://localhost:8080/",
          "height": 281
        },
        "outputId": "1f825a85-685c-4d6e-9dcd-91d6c271c90f"
      },
      "execution_count": 19,
      "outputs": [
        {
          "output_type": "display_data",
          "data": {
            "text/plain": [
              "<Figure size 432x288 with 1 Axes>"
            ],
            "image/png": "[encoded data removed]"
          },
          "metadata": {
            "needs_background": "light"
          }
        }
      ]
    },
    {
      "cell_type": "markdown",
      "source": [
        "# Checking for overfitting and underfitting\n",
        "The training set score is calculated as 0.2861. Similarly, the test set score is calculated as 0.5789. The training set score is very poor, so the model does not learn the relationships appropriately from the training data. It is a clear sign of underfitting. This problem can be improved by increasing model complexity. "
      ],
      "metadata": {
        "id": "G1eHKNtqTVSy"
      }
    },
    {
      "cell_type": "code",
      "source": [
        "# Checking for Overfitting and Underfitting\n",
        "print(\"Training set score: {:.4f}\".format(lm.score(X_train, y_train)))\n",
        "print(\"Test set score: {:.4f}\".format(lm.score(X_test, y_test)))"
      ],
      "metadata": {
        "id": "CAKuog6vtald",
        "colab": {
          "base_uri": "https://localhost:8080/"
        },
        "outputId": "0f1f5d3f-0827-457f-ffc2-354acced8b53"
      },
      "execution_count": 20,
      "outputs": [
        {
          "output_type": "stream",
          "name": "stdout",
          "text": [
            "Training set score: 0.2861\n",
            "Test set score: 0.5789\n"
          ]
        }
      ]
    },
    {
      "cell_type": "code",
      "source": [
        "# Save model for future use\n",
        "import joblib\n",
        "joblib.dump(lm, 'lm_regressor.pkl')\n",
        "\n",
        "# To load the model\n",
        "# lm2 = joblib.load('lm_regressor.pkl')"
      ],
      "metadata": {
        "colab": {
          "base_uri": "https://localhost:8080/"
        },
        "id": "APAGBdtSVTGO",
        "outputId": "7eab8ef5-5f84-4552-db49-b1497e630b56"
      },
      "execution_count": 22,
      "outputs": [
        {
          "output_type": "execute_result",
          "data": {
            "text/plain": [
              "['lm_regressor.pkl']"
            ]
          },
          "metadata": {},
          "execution_count": 22
        }
      ]
    },
    {
      "cell_type": "code",
      "source": [],
      "metadata": {
        "id": "KChAPPjhVtSE"
      },
      "execution_count": null,
      "outputs": []
    }
  ]
}
